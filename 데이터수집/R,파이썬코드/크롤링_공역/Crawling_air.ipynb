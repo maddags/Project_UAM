{
 "cells": [
  {
   "cell_type": "markdown",
   "id": "baee72bc",
   "metadata": {},
   "source": [
    "# 라이브러리 로드"
   ]
  },
  {
   "cell_type": "code",
   "execution_count": 26,
   "id": "5ef818a5",
   "metadata": {},
   "outputs": [],
   "source": [
    "pip install selenium"
   ]
  },
  {
   "cell_type": "code",
   "execution_count": 25,
   "id": "f513adc5",
   "metadata": {},
   "outputs": [],
   "source": [
    "pip install bs4"
   ]
  },
  {
   "cell_type": "code",
   "execution_count": 29,
   "id": "6d0b5940",
   "metadata": {},
   "outputs": [],
   "source": [
    "pip install pandas"
   ]
  },
  {
   "cell_type": "code",
   "execution_count": 30,
   "id": "b82901ee",
   "metadata": {},
   "outputs": [],
   "source": [
    "pip install numpy"
   ]
  },
  {
   "cell_type": "code",
   "execution_count": 20,
   "id": "19aa3d73",
   "metadata": {},
   "outputs": [],
   "source": [
    "from selenium import webdriver\n",
    "from selenium.webdriver.support.ui import WebDriverWait\n",
    "from selenium.webdriver.support import expected_conditions as EC\n",
    "from selenium.webdriver.common.by import By\n",
    "from bs4 import BeautifulSoup\n",
    "from urllib.request import urlopen\n",
    "from selenium.webdriver.common.keys import Keys\n",
    "from xml.etree import ElementTree\n",
    "import requests\n",
    "import time\n",
    "import pandas as pd\n",
    "import numpy as np"
   ]
  },
  {
   "cell_type": "code",
   "execution_count": 18,
   "id": "69a38cd8",
   "metadata": {},
   "outputs": [],
   "source": [
    "data=pd.read_csv('C:\\\\Users\\\\qjawl\\\\Desktop\\\\빅데이터\\\\빅데이터프로젝트\\\\UAM\\\\20210828\\\\for_gong.csv',encoding='EUC-KR')"
   ]
  },
  {
   "cell_type": "code",
   "execution_count": 19,
   "id": "c98b0ee0",
   "metadata": {},
   "outputs": [
    {
     "data": {
      "text/html": [
       "<div>\n",
       "<style scoped>\n",
       "    .dataframe tbody tr th:only-of-type {\n",
       "        vertical-align: middle;\n",
       "    }\n",
       "\n",
       "    .dataframe tbody tr th {\n",
       "        vertical-align: top;\n",
       "    }\n",
       "\n",
       "    .dataframe thead th {\n",
       "        text-align: right;\n",
       "    }\n",
       "</style>\n",
       "<table border=\"1\" class=\"dataframe\">\n",
       "  <thead>\n",
       "    <tr style=\"text-align: right;\">\n",
       "      <th></th>\n",
       "      <th>Unnamed: 0</th>\n",
       "      <th>LON</th>\n",
       "      <th>LAT</th>\n",
       "      <th>도로명</th>\n",
       "    </tr>\n",
       "  </thead>\n",
       "  <tbody>\n",
       "    <tr>\n",
       "      <th>0</th>\n",
       "      <td>0</td>\n",
       "      <td>126.970650</td>\n",
       "      <td>37.584116</td>\n",
       "      <td>서울 종로구 자하문로 92</td>\n",
       "    </tr>\n",
       "    <tr>\n",
       "      <th>1</th>\n",
       "      <td>1</td>\n",
       "      <td>126.968846</td>\n",
       "      <td>37.576187</td>\n",
       "      <td>서울 종로구 사직로9길 1</td>\n",
       "    </tr>\n",
       "    <tr>\n",
       "      <th>2</th>\n",
       "      <td>2</td>\n",
       "      <td>126.981758</td>\n",
       "      <td>37.584998</td>\n",
       "      <td>서울 종로구 삼청로 107</td>\n",
       "    </tr>\n",
       "    <tr>\n",
       "      <th>3</th>\n",
       "      <td>3</td>\n",
       "      <td>126.964061</td>\n",
       "      <td>37.592414</td>\n",
       "      <td>서울 종로구 창의문로 145</td>\n",
       "    </tr>\n",
       "    <tr>\n",
       "      <th>4</th>\n",
       "      <td>4</td>\n",
       "      <td>126.968358</td>\n",
       "      <td>37.606392</td>\n",
       "      <td>서울 종로구 평창문화로 65</td>\n",
       "    </tr>\n",
       "    <tr>\n",
       "      <th>...</th>\n",
       "      <td>...</td>\n",
       "      <td>...</td>\n",
       "      <td>...</td>\n",
       "      <td>...</td>\n",
       "    </tr>\n",
       "    <tr>\n",
       "      <th>3265</th>\n",
       "      <td>3265</td>\n",
       "      <td>126.560175</td>\n",
       "      <td>33.255964</td>\n",
       "      <td>제주특별자치도 서귀포시 중앙로 125</td>\n",
       "    </tr>\n",
       "    <tr>\n",
       "      <th>3266</th>\n",
       "      <td>3266</td>\n",
       "      <td>126.511357</td>\n",
       "      <td>33.248114</td>\n",
       "      <td>제주특별자치도 서귀포시 일주동로 9185</td>\n",
       "    </tr>\n",
       "    <tr>\n",
       "      <th>3267</th>\n",
       "      <td>3267</td>\n",
       "      <td>126.477774</td>\n",
       "      <td>33.250520</td>\n",
       "      <td>제주특별자치도 서귀포시 도순로 44</td>\n",
       "    </tr>\n",
       "    <tr>\n",
       "      <th>3268</th>\n",
       "      <td>3268</td>\n",
       "      <td>126.433639</td>\n",
       "      <td>33.253331</td>\n",
       "      <td>제주특별자치도 서귀포시 1100로 30</td>\n",
       "    </tr>\n",
       "    <tr>\n",
       "      <th>3269</th>\n",
       "      <td>3269</td>\n",
       "      <td>126.397877</td>\n",
       "      <td>33.254281</td>\n",
       "      <td>제주특별자치도 서귀포시 예래로 82</td>\n",
       "    </tr>\n",
       "  </tbody>\n",
       "</table>\n",
       "<p>3270 rows × 4 columns</p>\n",
       "</div>"
      ],
      "text/plain": [
       "      Unnamed: 0         LON        LAT                     도로명\n",
       "0              0  126.970650  37.584116          서울 종로구 자하문로 92\n",
       "1              1  126.968846  37.576187          서울 종로구 사직로9길 1\n",
       "2              2  126.981758  37.584998          서울 종로구 삼청로 107\n",
       "3              3  126.964061  37.592414         서울 종로구 창의문로 145\n",
       "4              4  126.968358  37.606392         서울 종로구 평창문화로 65\n",
       "...          ...         ...        ...                     ...\n",
       "3265        3265  126.560175  33.255964    제주특별자치도 서귀포시 중앙로 125\n",
       "3266        3266  126.511357  33.248114  제주특별자치도 서귀포시 일주동로 9185\n",
       "3267        3267  126.477774  33.250520     제주특별자치도 서귀포시 도순로 44\n",
       "3268        3268  126.433639  33.253331   제주특별자치도 서귀포시 1100로 30\n",
       "3269        3269  126.397877  33.254281     제주특별자치도 서귀포시 예래로 82\n",
       "\n",
       "[3270 rows x 4 columns]"
      ]
     },
     "execution_count": 19,
     "metadata": {},
     "output_type": "execute_result"
    }
   ],
   "source": [
    "data"
   ]
  },
  {
   "cell_type": "code",
   "execution_count": 31,
   "id": "a1f3c70b",
   "metadata": {},
   "outputs": [
    {
     "data": {
      "text/plain": [
       "array([['서울 종로구 자하문로 92'],\n",
       "       ['서울 종로구 사직로9길 1'],\n",
       "       ['서울 종로구 삼청로 107'],\n",
       "       ...,\n",
       "       ['제주특별자치도 서귀포시 도순로 44'],\n",
       "       ['제주특별자치도 서귀포시 1100로 30'],\n",
       "       ['제주특별자치도 서귀포시 예래로 82']], dtype=object)"
      ]
     },
     "execution_count": 31,
     "metadata": {},
     "output_type": "execute_result"
    }
   ],
   "source": [
    "data_for_c=data.loc[:,['도로명']]\n",
    "data_for_c=np.array(data_for_c)\n",
    "data_for_c"
   ]
  },
  {
   "cell_type": "markdown",
   "id": "ce9ff10d",
   "metadata": {},
   "source": [
    "# Chrome driver, 백업용 파일 경로 재설정 하고 실행"
   ]
  },
  {
   "cell_type": "markdown",
   "id": "389800d7",
   "metadata": {},
   "source": [
    "# 네트워크 환경에 따라 click,excute_script 이후 에러 발생가능-> tiem.sleep 밑에 추가하면 에러 해결"
   ]
  },
  {
   "cell_type": "code",
   "execution_count": 33,
   "id": "8708d212",
   "metadata": {},
   "outputs": [
    {
     "name": "stderr",
     "output_type": "stream",
     "text": [
      "<ipython-input-33-8db79fc93b5f>:17: DeprecationWarning: use driver.switch_to.window instead\n",
      "  driver.switch_to_window(handle)\n",
      "<ipython-input-33-8db79fc93b5f>:20: DeprecationWarning: use driver.switch_to.window instead\n",
      "  driver.switch_to_window(close_popup[0])\n"
     ]
    },
    {
     "ename": "WebDriverException",
     "evalue": "Message: chrome not reachable\n  (Session info: chrome=92.0.4515.159)\n",
     "output_type": "error",
     "traceback": [
      "\u001b[1;31m---------------------------------------------------------------------------\u001b[0m",
      "\u001b[1;31mWebDriverException\u001b[0m                        Traceback (most recent call last)",
      "\u001b[1;32m<ipython-input-33-8db79fc93b5f>\u001b[0m in \u001b[0;36m<module>\u001b[1;34m\u001b[0m\n\u001b[0;32m     83\u001b[0m     \u001b[1;31m#######################################################################\u001b[0m\u001b[1;33m\u001b[0m\u001b[1;33m\u001b[0m\u001b[1;33m\u001b[0m\u001b[0m\n\u001b[0;32m     84\u001b[0m     \u001b[1;31m###########################화면클릭################################\u001b[0m\u001b[1;33m\u001b[0m\u001b[1;33m\u001b[0m\u001b[1;33m\u001b[0m\u001b[0m\n\u001b[1;32m---> 85\u001b[1;33m     \u001b[0mpage\u001b[0m\u001b[1;33m=\u001b[0m\u001b[0mdriver\u001b[0m\u001b[1;33m.\u001b[0m\u001b[0mfind_element_by_class_name\u001b[0m\u001b[1;33m(\u001b[0m\u001b[1;34m'page'\u001b[0m\u001b[1;33m)\u001b[0m\u001b[1;33m\u001b[0m\u001b[1;33m\u001b[0m\u001b[0m\n\u001b[0m\u001b[0;32m     86\u001b[0m     \u001b[0mreal\u001b[0m\u001b[1;33m=\u001b[0m\u001b[0mpage\u001b[0m\u001b[1;33m.\u001b[0m\u001b[0mfind_element_by_class_name\u001b[0m\u001b[1;33m(\u001b[0m\u001b[1;34m'real'\u001b[0m\u001b[1;33m)\u001b[0m\u001b[1;33m\u001b[0m\u001b[1;33m\u001b[0m\u001b[0m\n\u001b[0;32m     87\u001b[0m     \u001b[0mfull_spot_map\u001b[0m\u001b[1;33m=\u001b[0m\u001b[0mreal\u001b[0m\u001b[1;33m.\u001b[0m\u001b[0mfind_element_by_class_name\u001b[0m\u001b[1;33m(\u001b[0m\u001b[1;34m'full-spot-map'\u001b[0m\u001b[1;33m)\u001b[0m\u001b[1;33m\u001b[0m\u001b[1;33m\u001b[0m\u001b[0m\n",
      "\u001b[1;32mD:\\anaconda3\\lib\\site-packages\\selenium\\webdriver\\remote\\webdriver.py\u001b[0m in \u001b[0;36mfind_element_by_class_name\u001b[1;34m(self, name)\u001b[0m\n\u001b[0;32m    562\u001b[0m             \u001b[0melement\u001b[0m \u001b[1;33m=\u001b[0m \u001b[0mdriver\u001b[0m\u001b[1;33m.\u001b[0m\u001b[0mfind_element_by_class_name\u001b[0m\u001b[1;33m(\u001b[0m\u001b[1;34m'foo'\u001b[0m\u001b[1;33m)\u001b[0m\u001b[1;33m\u001b[0m\u001b[1;33m\u001b[0m\u001b[0m\n\u001b[0;32m    563\u001b[0m         \"\"\"\n\u001b[1;32m--> 564\u001b[1;33m         \u001b[1;32mreturn\u001b[0m \u001b[0mself\u001b[0m\u001b[1;33m.\u001b[0m\u001b[0mfind_element\u001b[0m\u001b[1;33m(\u001b[0m\u001b[0mby\u001b[0m\u001b[1;33m=\u001b[0m\u001b[0mBy\u001b[0m\u001b[1;33m.\u001b[0m\u001b[0mCLASS_NAME\u001b[0m\u001b[1;33m,\u001b[0m \u001b[0mvalue\u001b[0m\u001b[1;33m=\u001b[0m\u001b[0mname\u001b[0m\u001b[1;33m)\u001b[0m\u001b[1;33m\u001b[0m\u001b[1;33m\u001b[0m\u001b[0m\n\u001b[0m\u001b[0;32m    565\u001b[0m \u001b[1;33m\u001b[0m\u001b[0m\n\u001b[0;32m    566\u001b[0m     \u001b[1;32mdef\u001b[0m \u001b[0mfind_elements_by_class_name\u001b[0m\u001b[1;33m(\u001b[0m\u001b[0mself\u001b[0m\u001b[1;33m,\u001b[0m \u001b[0mname\u001b[0m\u001b[1;33m)\u001b[0m\u001b[1;33m:\u001b[0m\u001b[1;33m\u001b[0m\u001b[1;33m\u001b[0m\u001b[0m\n",
      "\u001b[1;32mD:\\anaconda3\\lib\\site-packages\\selenium\\webdriver\\remote\\webdriver.py\u001b[0m in \u001b[0;36mfind_element\u001b[1;34m(self, by, value)\u001b[0m\n\u001b[0;32m    974\u001b[0m                 \u001b[0mby\u001b[0m \u001b[1;33m=\u001b[0m \u001b[0mBy\u001b[0m\u001b[1;33m.\u001b[0m\u001b[0mCSS_SELECTOR\u001b[0m\u001b[1;33m\u001b[0m\u001b[1;33m\u001b[0m\u001b[0m\n\u001b[0;32m    975\u001b[0m                 \u001b[0mvalue\u001b[0m \u001b[1;33m=\u001b[0m \u001b[1;34m'[name=\"%s\"]'\u001b[0m \u001b[1;33m%\u001b[0m \u001b[0mvalue\u001b[0m\u001b[1;33m\u001b[0m\u001b[1;33m\u001b[0m\u001b[0m\n\u001b[1;32m--> 976\u001b[1;33m         return self.execute(Command.FIND_ELEMENT, {\n\u001b[0m\u001b[0;32m    977\u001b[0m             \u001b[1;34m'using'\u001b[0m\u001b[1;33m:\u001b[0m \u001b[0mby\u001b[0m\u001b[1;33m,\u001b[0m\u001b[1;33m\u001b[0m\u001b[1;33m\u001b[0m\u001b[0m\n\u001b[0;32m    978\u001b[0m             'value': value})['value']\n",
      "\u001b[1;32mD:\\anaconda3\\lib\\site-packages\\selenium\\webdriver\\remote\\webdriver.py\u001b[0m in \u001b[0;36mexecute\u001b[1;34m(self, driver_command, params)\u001b[0m\n\u001b[0;32m    319\u001b[0m         \u001b[0mresponse\u001b[0m \u001b[1;33m=\u001b[0m \u001b[0mself\u001b[0m\u001b[1;33m.\u001b[0m\u001b[0mcommand_executor\u001b[0m\u001b[1;33m.\u001b[0m\u001b[0mexecute\u001b[0m\u001b[1;33m(\u001b[0m\u001b[0mdriver_command\u001b[0m\u001b[1;33m,\u001b[0m \u001b[0mparams\u001b[0m\u001b[1;33m)\u001b[0m\u001b[1;33m\u001b[0m\u001b[1;33m\u001b[0m\u001b[0m\n\u001b[0;32m    320\u001b[0m         \u001b[1;32mif\u001b[0m \u001b[0mresponse\u001b[0m\u001b[1;33m:\u001b[0m\u001b[1;33m\u001b[0m\u001b[1;33m\u001b[0m\u001b[0m\n\u001b[1;32m--> 321\u001b[1;33m             \u001b[0mself\u001b[0m\u001b[1;33m.\u001b[0m\u001b[0merror_handler\u001b[0m\u001b[1;33m.\u001b[0m\u001b[0mcheck_response\u001b[0m\u001b[1;33m(\u001b[0m\u001b[0mresponse\u001b[0m\u001b[1;33m)\u001b[0m\u001b[1;33m\u001b[0m\u001b[1;33m\u001b[0m\u001b[0m\n\u001b[0m\u001b[0;32m    322\u001b[0m             response['value'] = self._unwrap_value(\n\u001b[0;32m    323\u001b[0m                 response.get('value', None))\n",
      "\u001b[1;32mD:\\anaconda3\\lib\\site-packages\\selenium\\webdriver\\remote\\errorhandler.py\u001b[0m in \u001b[0;36mcheck_response\u001b[1;34m(self, response)\u001b[0m\n\u001b[0;32m    240\u001b[0m                 \u001b[0malert_text\u001b[0m \u001b[1;33m=\u001b[0m \u001b[0mvalue\u001b[0m\u001b[1;33m[\u001b[0m\u001b[1;34m'alert'\u001b[0m\u001b[1;33m]\u001b[0m\u001b[1;33m.\u001b[0m\u001b[0mget\u001b[0m\u001b[1;33m(\u001b[0m\u001b[1;34m'text'\u001b[0m\u001b[1;33m)\u001b[0m\u001b[1;33m\u001b[0m\u001b[1;33m\u001b[0m\u001b[0m\n\u001b[0;32m    241\u001b[0m             \u001b[1;32mraise\u001b[0m \u001b[0mexception_class\u001b[0m\u001b[1;33m(\u001b[0m\u001b[0mmessage\u001b[0m\u001b[1;33m,\u001b[0m \u001b[0mscreen\u001b[0m\u001b[1;33m,\u001b[0m \u001b[0mstacktrace\u001b[0m\u001b[1;33m,\u001b[0m \u001b[0malert_text\u001b[0m\u001b[1;33m)\u001b[0m\u001b[1;33m\u001b[0m\u001b[1;33m\u001b[0m\u001b[0m\n\u001b[1;32m--> 242\u001b[1;33m         \u001b[1;32mraise\u001b[0m \u001b[0mexception_class\u001b[0m\u001b[1;33m(\u001b[0m\u001b[0mmessage\u001b[0m\u001b[1;33m,\u001b[0m \u001b[0mscreen\u001b[0m\u001b[1;33m,\u001b[0m \u001b[0mstacktrace\u001b[0m\u001b[1;33m)\u001b[0m\u001b[1;33m\u001b[0m\u001b[1;33m\u001b[0m\u001b[0m\n\u001b[0m\u001b[0;32m    243\u001b[0m \u001b[1;33m\u001b[0m\u001b[0m\n\u001b[0;32m    244\u001b[0m     \u001b[1;32mdef\u001b[0m \u001b[0m_value_or_default\u001b[0m\u001b[1;33m(\u001b[0m\u001b[0mself\u001b[0m\u001b[1;33m,\u001b[0m \u001b[0mobj\u001b[0m\u001b[1;33m,\u001b[0m \u001b[0mkey\u001b[0m\u001b[1;33m,\u001b[0m \u001b[0mdefault\u001b[0m\u001b[1;33m)\u001b[0m\u001b[1;33m:\u001b[0m\u001b[1;33m\u001b[0m\u001b[1;33m\u001b[0m\u001b[0m\n",
      "\u001b[1;31mWebDriverException\u001b[0m: Message: chrome not reachable\n  (Session info: chrome=92.0.4515.159)\n"
     ]
    }
   ],
   "source": [
    "url='https://map.vworld.kr/map/ws3dmap.do#'\n",
    "driver = webdriver.Chrome('c:\\\\Users\\\\qjawl\\\\bigdata\\\\chromedriver.exe')\n",
    "driver.get(url)\n",
    "\n",
    "except_list=[]\n",
    "gong=[]\n",
    "city_name=[]\n",
    "si_name=[]\n",
    "dong_name=[]\n",
    "\n",
    "###################url 오픈시 팝업창 2개 있음####################\n",
    "##########################팝업창 닫기############################\n",
    "try:\n",
    "    main = driver.window_handles\n",
    "    for handle in main:\n",
    "        if handle != main[0]:\n",
    "            driver.switch_to_window(handle)\n",
    "            driver.close()\n",
    "    close_popup=driver.window_handles\n",
    "    driver.switch_to_window(close_popup[0])\n",
    "except:\n",
    "    pass\n",
    "pop_up_last=driver.find_element_by_xpath('//*[@id=\"ifrwebglpopup\"]')\n",
    "driver.switch_to.frame(pop_up_last)\n",
    "map_last=driver.find_element_by_tag_name('map')\n",
    "area=map_last.find_elements_by_tag_name('area')\n",
    "area[0].send_keys(Keys.ENTER)\n",
    "time.sleep(1)\n",
    "##############################################################\n",
    "####################공역 구분 기준 선택#######################\n",
    "driver.switch_to.default_content()\n",
    "page=driver.find_element_by_class_name('page')\n",
    "mapsAll=driver.find_element_by_xpath('//*[@id=\"tabContent2\"]/div[5]')\n",
    "ul=mapsAll.find_element_by_tag_name('ul')\n",
    "grpcat=ul.find_elements_by_class_name('grpcat')\n",
    "doro=grpcat[2]\n",
    "but=doro.find_element_by_id('cat_CAT006').click()\n",
    "time.sleep(1)\n",
    "cat=doro.find_element_by_id('CAT006')\n",
    "dv=cat.find_elements_by_class_name('dv')\n",
    "hang=dv[1]\n",
    "hang.click()\n",
    "ul_hang=hang.find_element_by_tag_name('ul')\n",
    "li_hang=ul_hang.find_elements_by_tag_name('li')\n",
    "li_hang[6].find_element_by_tag_name('input').click()\n",
    "li_hang[14].find_element_by_tag_name('input').click()\n",
    "li_hang[20].find_element_by_tag_name('input').click()\n",
    "###################################################################\n",
    "############################지역선택###############################\n",
    "\n",
    "\n",
    "\n",
    "\n",
    "for query in data_for_c:\n",
    "    search=driver.find_element_by_class_name('search')\n",
    "    search.find_element_by_tag_name('input').send_keys(query)\n",
    "    a=search.find_element_by_tag_name('a').click()\n",
    "    time.sleep(1)\n",
    "    ###################################################################\n",
    "\n",
    "    page=driver.find_element_by_class_name('page')\n",
    "    boxing=driver.find_element_by_xpath('//*[@id=\"shleftSidebar\"]/div')\n",
    "    tabcontent=boxing.find_element_by_id('tabContent1')\n",
    "    block=tabcontent.find_elements_by_class_name('block')\n",
    "    ##block[1] -> 도로명 blcok[2]->지번\n",
    "    try:\n",
    "        ul=block[1].find_element_by_tag_name('ul')\n",
    "        li=ul.find_elements_by_tag_name('li')\n",
    "        li[0].click()\n",
    "        time.sleep(1)\n",
    "    except:\n",
    "        ul=block[2].find_element_by_tag_name('ul')\n",
    "        li=ul.find_elements_by_tag_name('li')\n",
    "        try:\n",
    "            li[0].click()\n",
    "            time.sleep(1)\n",
    "        except:\n",
    "            except_list.append(query)\n",
    "\n",
    "\n",
    "\n",
    "\n",
    "    #######################################################################\n",
    "    ###########################화면클릭################################\n",
    "    page=driver.find_element_by_class_name('page')\n",
    "    real=page.find_element_by_class_name('real')\n",
    "    full_spot_map=real.find_element_by_class_name('full-spot-map')\n",
    "    map_area=full_spot_map.find_element_by_id('maparea')\n",
    "    map_2d=map_area.find_element_by_id('map2d')\n",
    "    viewport=map_2d.find_element_by_class_name('ol-viewport')\n",
    "    canvas=viewport.find_element_by_tag_name('canvas')\n",
    "    canvas.click()\n",
    "    time.sleep(1)\n",
    "    full_spot_map=real.find_element_by_class_name('full-spot-map')\n",
    "    map_area=full_spot_map.find_element_by_id('maparea')\n",
    "   # try-> 비행 불가능 지역 (팝업창 열림)\n",
    "    try: \n",
    "        pop_up_gong=map_area.find_element_by_id('mappop_html')\n",
    "        title=pop_up_gong.find_element_by_class_name('title')\n",
    "        pop_up_a=title.find_elements_by_tag_name('a')\n",
    "        pop_up_a[-1].send_keys(Keys.ENTER)\n",
    "        time.sleep(1)\n",
    "        gong.append('1')\n",
    "    #ecept -> 비행 가능 지역( 팝업창 안열림)\n",
    "    except:\n",
    "        gong.append('0')\n",
    "        \n",
    "        \n",
    "    search=driver.find_element_by_class_name('search')\n",
    "    search.find_element_by_tag_name('input').clear()\n",
    "    time.sleep(1)\n",
    "    \n",
    "\n"
   ]
  },
  {
   "cell_type": "code",
   "execution_count": 34,
   "id": "d0e1a63b",
   "metadata": {},
   "outputs": [
    {
     "data": {
      "text/plain": [
       "[]"
      ]
     },
     "execution_count": 34,
     "metadata": {},
     "output_type": "execute_result"
    }
   ],
   "source": [
    "except_list"
   ]
  },
  {
   "cell_type": "code",
   "execution_count": 36,
   "id": "3235a3a1",
   "metadata": {},
   "outputs": [],
   "source": [
    "data_for_c=pd.DataFrame(data_for_c)"
   ]
  },
  {
   "cell_type": "code",
   "execution_count": null,
   "id": "37040649",
   "metadata": {},
   "outputs": [],
   "source": [
    "data_for_c['비행불가능여부']=gong"
   ]
  },
  {
   "cell_type": "code",
   "execution_count": null,
   "id": "bef76ff9",
   "metadata": {},
   "outputs": [],
   "source": [
    "data_for_c"
   ]
  },
  {
   "cell_type": "code",
   "execution_count": null,
   "id": "edb1b7a9",
   "metadata": {},
   "outputs": [],
   "source": [
    "data_for_c.to_csv('백업파일경로',encoding='EUC-KR')"
   ]
  }
 ],
 "metadata": {
  "kernelspec": {
   "display_name": "Python 3",
   "language": "python",
   "name": "python3"
  },
  "language_info": {
   "codemirror_mode": {
    "name": "ipython",
    "version": 3
   },
   "file_extension": ".py",
   "mimetype": "text/x-python",
   "name": "python",
   "nbconvert_exporter": "python",
   "pygments_lexer": "ipython3",
   "version": "3.8.8"
  }
 },
 "nbformat": 4,
 "nbformat_minor": 5
}
